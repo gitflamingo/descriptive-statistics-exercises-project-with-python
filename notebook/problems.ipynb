{
    "cells": [
        {
            "cell_type": "markdown",
            "id": "ac622319",
            "metadata": {},
            "source": [
                "# Descriptive statistics problems"
            ]
        },
        {
            "cell_type": "markdown",
            "id": "aa8993e4",
            "metadata": {},
            "source": [
                "### Exercise 1"
            ]
        },
        {
            "cell_type": "markdown",
            "id": "5e0ab0d5",
            "metadata": {},
            "source": [
                "We will use Numpy to obtain information to describe statistically.\n",
                "\n",
                "- Generate an array of 100 elements following a normal distribution.\n",
                "- Generate an array of 100 elements following a chi-square distribution with 3 degrees of freedom.\n",
                "- Calculate the main metrics and statistical measures that best describe the two vectors."
            ]
        },
        {
            "cell_type": "code",
            "execution_count": 5,
            "id": "34720ab6",
            "metadata": {},
            "outputs": [
                {
                    "name": "stdout",
                    "output_type": "stream",
                    "text": [
                        "normal Mean: -0.017097932156000147\n",
                        "normal std: 0.958819997375969\n",
                        "normal Var: 0.9193357873680533\n",
                        "normal Median: -0.030469089526936954\n",
                        "χ² Mean: 3.1747918215601936\n",
                        "χ² Std: 2.451549920435158\n",
                        "χ² Var: 6.010097012385629\n",
                        "χ² Median: 2.669648971297601\n"
                    ]
                }
            ],
            "source": [
                "# TODO\n",
                "#Generate arrays\n",
                "import numpy as np\n",
                "\n",
                "arrayNormalDistribution = np.random.normal(loc=0, scale=1, size=100)\n",
                "arrayChisqDistribution = np.random.chisquare(df=3, size=100)\n",
                "\n",
                "#print(arrayNormalDistribution)\n",
                "#print(arrayChisqDistribution)\n",
                "\n",
                "#Main metrics and statistical measures for normal distribution\n",
                "\n",
                "normalMean = np.mean(arrayNormalDistribution)\n",
                "normalStd = np.std(arrayNormalDistribution)\n",
                "normalVar = np.var(arrayNormalDistribution)\n",
                "normalMedian = np.median(arrayNormalDistribution)\n",
                "\n",
                "#Main metrics and statistical measures for chisquare distribution\n",
                "\n",
                "chisquareMean = np.mean(arrayChisqDistribution)\n",
                "chrisquareStd = np.std(arrayChisqDistribution)\n",
                "chisquareVar = np.var(arrayChisqDistribution)\n",
                "chisquareMedian = np.median(arrayChisqDistribution)\n",
                "\n",
                "#print results for normal distribution\n",
                "\n",
                "print(\"normal Mean:\", normalMean)\n",
                "print(\"normal std:\", normalStd)\n",
                "print(\"normal Var:\", normalVar)\n",
                "print(\"normal Median:\", normalMedian)\n",
                "\n",
                "#print results for chisquare distribution χ²\n",
                "\n",
                "print(\"χ² Mean:\", chisquareMean)\n",
                "print(\"χ² Std:\", chrisquareStd)\n",
                "print(\"χ² Var:\", chisquareVar)\n",
                "print(\"χ² Median:\", chisquareMedian)"
            ]
        },
        {
            "cell_type": "markdown",
            "id": "46c70c3d",
            "metadata": {},
            "source": [
                "### Exercise 2\n",
                "\n",
                "Write a Python program to calculate the standard deviation of the following data:\n",
                "\n",
                "```py\n",
                "data = [4, 2, 5, 8, 6]\n",
                "```"
            ]
        },
        {
            "cell_type": "code",
            "execution_count": 8,
            "id": "d590308e",
            "metadata": {},
            "outputs": [
                {
                    "name": "stdout",
                    "output_type": "stream",
                    "text": [
                        "2.0\n",
                        "2.23606797749979\n"
                    ]
                }
            ],
            "source": [
                "# TODO\n",
                "import numpy as np # Useful when working with numerical arrays\n",
                "import statistics # Suitable for data in a standard Python list.\n",
                "\n",
                "#In summary, the choice between numpy and statistics depends on your data and the complexity of your analysis. If you are working with numerical data and require high performance, numpy is a more appropriate choice. If your data is in standard Python lists and you need basic statistical operations, statistics is a simple and built-in solution.\n",
                "\n",
                "data = [4, 2, 5, 8, 6]\n",
                "\n",
                "stdDeviationN = np.std(data)\n",
                "stdDeviationS = statistics.stdev(data)\n",
                "\n",
                "print(stdDeviationN)\n",
                "print(stdDeviationS)\n",
                " \n"
            ]
        }
    ],
    "metadata": {
        "interpreter": {
            "hash": "9248718ffe6ce6938b217e69dbcc175ea21f4c6b28a317e96c05334edae734bb"
        },
        "kernelspec": {
            "display_name": "Python 3.9.12 ('ML-BOOTCAMP')",
            "language": "python",
            "name": "python3"
        },
        "language_info": {
            "codemirror_mode": {
                "name": "ipython",
                "version": 3
            },
            "file_extension": ".py",
            "mimetype": "text/x-python",
            "name": "python",
            "nbconvert_exporter": "python",
            "pygments_lexer": "ipython3",
            "version": "3.11.5"
        }
    },
    "nbformat": 4,
    "nbformat_minor": 5
}
